{
  "nbformat": 4,
  "nbformat_minor": 0,
  "metadata": {
    "colab": {
      "provenance": [],
      "authorship_tag": "ABX9TyNEkRDWCgyLF+YlRnRKxosv",
      "include_colab_link": true
    },
    "kernelspec": {
      "name": "python3",
      "display_name": "Python 3"
    },
    "language_info": {
      "name": "python"
    }
  },
  "cells": [
    {
      "cell_type": "markdown",
      "metadata": {
        "id": "view-in-github",
        "colab_type": "text"
      },
      "source": [
        "<a href=\"https://colab.research.google.com/github/TracyMabaso/LAB07_BICT332/blob/main/LAB07.ipynb\" target=\"_parent\"><img src=\"https://colab.research.google.com/assets/colab-badge.svg\" alt=\"Open In Colab\"/></a>"
      ]
    },
    {
      "cell_type": "code",
      "source": [
        "pip install numpy pandas matplotlib scikit-learn"
      ],
      "metadata": {
        "colab": {
          "base_uri": "https://localhost:8080/"
        },
        "id": "Rwbk7tAsY5wA",
        "outputId": "f31691ab-1fa4-4e9b-db7a-b954b909e68c"
      },
      "execution_count": 65,
      "outputs": [
        {
          "output_type": "stream",
          "name": "stdout",
          "text": [
            "Requirement already satisfied: numpy in /usr/local/lib/python3.12/dist-packages (2.0.2)\n",
            "Requirement already satisfied: pandas in /usr/local/lib/python3.12/dist-packages (2.2.2)\n",
            "Requirement already satisfied: matplotlib in /usr/local/lib/python3.12/dist-packages (3.10.0)\n",
            "Requirement already satisfied: scikit-learn in /usr/local/lib/python3.12/dist-packages (1.6.1)\n",
            "Requirement already satisfied: python-dateutil>=2.8.2 in /usr/local/lib/python3.12/dist-packages (from pandas) (2.9.0.post0)\n",
            "Requirement already satisfied: pytz>=2020.1 in /usr/local/lib/python3.12/dist-packages (from pandas) (2025.2)\n",
            "Requirement already satisfied: tzdata>=2022.7 in /usr/local/lib/python3.12/dist-packages (from pandas) (2025.2)\n",
            "Requirement already satisfied: contourpy>=1.0.1 in /usr/local/lib/python3.12/dist-packages (from matplotlib) (1.3.3)\n",
            "Requirement already satisfied: cycler>=0.10 in /usr/local/lib/python3.12/dist-packages (from matplotlib) (0.12.1)\n",
            "Requirement already satisfied: fonttools>=4.22.0 in /usr/local/lib/python3.12/dist-packages (from matplotlib) (4.60.0)\n",
            "Requirement already satisfied: kiwisolver>=1.3.1 in /usr/local/lib/python3.12/dist-packages (from matplotlib) (1.4.9)\n",
            "Requirement already satisfied: packaging>=20.0 in /usr/local/lib/python3.12/dist-packages (from matplotlib) (25.0)\n",
            "Requirement already satisfied: pillow>=8 in /usr/local/lib/python3.12/dist-packages (from matplotlib) (11.3.0)\n",
            "Requirement already satisfied: pyparsing>=2.3.1 in /usr/local/lib/python3.12/dist-packages (from matplotlib) (3.2.4)\n",
            "Requirement already satisfied: scipy>=1.6.0 in /usr/local/lib/python3.12/dist-packages (from scikit-learn) (1.16.2)\n",
            "Requirement already satisfied: joblib>=1.2.0 in /usr/local/lib/python3.12/dist-packages (from scikit-learn) (1.5.2)\n",
            "Requirement already satisfied: threadpoolctl>=3.1.0 in /usr/local/lib/python3.12/dist-packages (from scikit-learn) (3.6.0)\n",
            "Requirement already satisfied: six>=1.5 in /usr/local/lib/python3.12/dist-packages (from python-dateutil>=2.8.2->pandas) (1.17.0)\n"
          ]
        }
      ]
    },
    {
      "cell_type": "code",
      "execution_count": 66,
      "metadata": {
        "id": "IPP_97kbYL8X"
      },
      "outputs": [],
      "source": [
        "# 1.2: Import libraries and define majority vote classifier\n",
        "import numpy as np\n",
        "import pandas as pd\n",
        "from sklearn.base import BaseEstimator, ClassifierMixin, clone\n",
        "from sklearn.preprocessing import LabelEncoder\n",
        "from sklearn.pipeline import Pipeline\n",
        "\n",
        "class MajorityVoteClassifier(BaseEstimator, ClassifierMixin):\n",
        "    \"\"\"A majority vote ensemble classifier\"\"\"\n",
        "\n",
        "    def __init__(self, classifiers, vote='classlabel', weights=None):\n",
        "        self.classifiers = classifiers\n",
        "        self.named_classifiers = {f\"clf_{i}\": clf for i, clf in enumerate(classifiers)}\n",
        "        self.vote = vote\n",
        "        self.weights = weights\n",
        "\n",
        "    def fit(self, X, y):\n",
        "        self.lablenc_ = LabelEncoder()\n",
        "        self.lablenc_.fit(y)\n",
        "        self.classes_ = self.lablenc_.classes_\n",
        "        self.classifiers_ = [clone(clf).fit(X, self.lablenc_.transform(y)) for clf in self.classifiers]\n",
        "        return self\n",
        "\n",
        "    def predict(self, X):\n",
        "        if self.vote == 'probability':\n",
        "            maj_vote = np.argmax(self.predict_proba(X), axis=1)\n",
        "        else:\n",
        "            predictions = np.asarray([clf.predict(X) for clf in self.classifiers_]).T\n",
        "            maj_vote = np.apply_along_axis(\n",
        "                lambda x: np.argmax(np.bincount(x, weights=self.weights)),\n",
        "                axis=1, arr=predictions)\n",
        "        return self.lablenc_.inverse_transform(maj_vote)\n",
        "\n",
        "    def predict_proba(self, X):\n",
        "        probas = np.asarray([clf.predict_proba(X) for clf in self.classifiers_])\n",
        "        return np.average(probas, axis=0, weights=self.weights)\n",
        "\n",
        "    def get_params(self, deep=True):\n",
        "        if not deep:\n",
        "            return super().get_params(deep=False)\n",
        "        else:\n",
        "            out = self.named_classifiers.copy()\n",
        "            for name, step in self.named_classifiers.items():\n",
        "                for key, value in step.get_params(deep=True).items():\n",
        "                    out[f'{name}__{key}'] = value\n",
        "            return out\n"
      ]
    },
    {
      "cell_type": "code",
      "source": [
        "# 1.3: Load and prepare dataset\n",
        "from sklearn import datasets\n",
        "from sklearn.model_selection import train_test_split\n",
        "from sklearn.preprocessing import StandardScaler\n",
        "\n",
        "iris = datasets.load_iris()\n",
        "X, y = iris.data[50:, [1, 2]], iris.target[50:]\n",
        "y = LabelEncoder().fit_transform(y)\n",
        "\n",
        "X_train, X_test, y_train, y_test = train_test_split(\n",
        "    X, y, test_size=0.3, random_state=1, stratify=y)\n"
      ],
      "metadata": {
        "id": "X-DGJOmTYOMp"
      },
      "execution_count": 67,
      "outputs": []
    },
    {
      "cell_type": "code",
      "source": [
        "# 1.4: Create classifiers\n",
        "from sklearn.linear_model import LogisticRegression\n",
        "from sklearn.tree import DecisionTreeClassifier\n",
        "from sklearn.neighbors import KNeighborsClassifier\n",
        "from sklearn.model_selection import cross_val_score\n",
        "\n",
        "clf1 = LogisticRegression(penalty='l2', C=0.001, random_state=1, max_iter=500)\n",
        "clf2 = DecisionTreeClassifier(max_depth=1, criterion='entropy', random_state=0)\n",
        "clf3 = KNeighborsClassifier(n_neighbors=1, p=2, metric='minkowski')\n",
        "\n",
        "pipe1 = Pipeline([('sc', StandardScaler()), ('clf', clf1)])\n",
        "pipe3 = Pipeline([('sc', StandardScaler()), ('clf', clf3)])\n",
        "\n",
        "clf_labels = ['Logistic regression', 'Decision tree', 'KNN']\n",
        "\n",
        "print('10-fold cross validation:\\n')\n",
        "for clf, label in zip([pipe1, clf2, pipe3], clf_labels):\n",
        "    scores = cross_val_score(clf, X_train, y_train, cv=10, scoring='roc_auc')\n",
        "    print(f\"ROC AUC: {scores.mean():.2f} (+/- {scores.std():.2f}) [{label}]\")\n"
      ],
      "metadata": {
        "colab": {
          "base_uri": "https://localhost:8080/"
        },
        "id": "95XLRQnfYQq2",
        "outputId": "39f160b2-a67f-4523-f719-346a679bc4f3"
      },
      "execution_count": 68,
      "outputs": [
        {
          "output_type": "stream",
          "name": "stdout",
          "text": [
            "10-fold cross validation:\n",
            "\n",
            "ROC AUC: 0.94 (+/- 0.07) [Logistic regression]\n",
            "ROC AUC: 0.90 (+/- 0.12) [Decision tree]\n",
            "ROC AUC: 0.86 (+/- 0.12) [KNN]\n"
          ]
        }
      ]
    },
    {
      "cell_type": "code",
      "source": [
        "# 1.5: Create and Evaluate Majority Voting Classifier\n",
        "from sklearn.model_selection import cross_val_score\n",
        "\n",
        "# Create majority vote classifier\n",
        "mv_clf = MajorityVoteClassifier(classifiers=[pipe1, clf2, pipe3], vote='classlabel')\n",
        "clf_labels += ['Majority voting']\n",
        "all_clf = [pipe1, clf2, pipe3, mv_clf]\n",
        "\n",
        "print('10-fold cross validation:\\n')\n",
        "\n",
        "# Use accuracy instead of roc_auc to avoid errors\n",
        "for clf, label in zip(all_clf, clf_labels):\n",
        "    scores = cross_val_score(estimator=clf, X=X_train, y=y_train, cv=10, scoring='accuracy')\n",
        "    print(f\"Accuracy: {scores.mean():.2f} (+/- {scores.std():.2f}) [{label}]\")\n"
      ],
      "metadata": {
        "colab": {
          "base_uri": "https://localhost:8080/"
        },
        "id": "rwjyJDC6Zpc0",
        "outputId": "671cb174-87f0-49df-8d69-e6d93e14402e"
      },
      "execution_count": 69,
      "outputs": [
        {
          "output_type": "stream",
          "name": "stdout",
          "text": [
            "10-fold cross validation:\n",
            "\n",
            "Accuracy: 0.61 (+/- 0.13) [Logistic regression]\n",
            "Accuracy: 0.90 (+/- 0.11) [Decision tree]\n",
            "Accuracy: 0.86 (+/- 0.13) [KNN]\n",
            "Accuracy: 0.89 (+/- 0.11) [Majority voting]\n"
          ]
        }
      ]
    },
    {
      "cell_type": "code",
      "source": [
        "# 2.2: Load Wine dataset\n",
        "df_wine = pd.read_csv('https://archive.ics.uci.edu/ml/machine-learning-databases/wine/wine.data', header=None)\n",
        "df_wine.columns = ['Class label', 'Alcohol', 'Malic acid', 'Ash', 'Alcalinity of ash',\n",
        "                   'Magnesium', 'Total phenols', 'Flavanoids', 'Nonflavanoid phenols',\n",
        "                   'Proanthocyanins', 'Color intensity', 'Hue', 'OD280/OD315 of diluted wines', 'Proline']\n",
        "\n",
        "df_wine = df_wine[df_wine['Class label'] != 1]\n",
        "y = LabelEncoder().fit_transform(df_wine['Class label'].values)\n",
        "X = df_wine[['Alcohol', 'OD280/OD315 of diluted wines']].values\n",
        "\n",
        "X_train, X_test, y_train, y_test = train_test_split(X, y, test_size=0.2, random_state=1, stratify=y)\n"
      ],
      "metadata": {
        "id": "lp9GTmotYU4d"
      },
      "execution_count": 70,
      "outputs": []
    },
    {
      "cell_type": "code",
      "source": [
        "from sklearn.ensemble import BaggingClassifier\n",
        "from sklearn.metrics import accuracy_score\n",
        "from sklearn.tree import DecisionTreeClassifier\n",
        "\n",
        "# Decision tree\n",
        "tree = DecisionTreeClassifier(criterion='entropy', random_state=1)\n",
        "\n",
        "# Bagging classifier (updated argument)\n",
        "bag = BaggingClassifier(estimator=tree, n_estimators=500,\n",
        "                        max_samples=1.0, max_features=1.0,\n",
        "                        bootstrap=True, n_jobs=-1, random_state=1)\n",
        "\n",
        "# Train classifiers\n",
        "tree.fit(X_train, y_train)\n",
        "bag.fit(X_train, y_train)\n",
        "\n",
        "# Evaluate\n",
        "for clf, label in zip([tree, bag], ['Decision tree', 'Bagging']):\n",
        "    y_train_pred = clf.predict(X_train)\n",
        "    y_test_pred = clf.predict(X_test)\n",
        "    print(f'{label} train/test accuracies: {accuracy_score(y_train, y_train_pred):.3f}/{accuracy_score(y_test, y_test_pred):.3f}')\n"
      ],
      "metadata": {
        "colab": {
          "base_uri": "https://localhost:8080/"
        },
        "id": "vjnwLFZvZTXD",
        "outputId": "f40a6b14-ee0d-466d-85c7-df4ce7d46d95"
      },
      "execution_count": 71,
      "outputs": [
        {
          "output_type": "stream",
          "name": "stdout",
          "text": [
            "Decision tree train/test accuracies: 1.000/0.833\n",
            "Bagging train/test accuracies: 1.000/0.917\n"
          ]
        }
      ]
    },
    {
      "cell_type": "code",
      "source": [
        "import matplotlib.pyplot as plt\n",
        "\n",
        "x_min, x_max = X_train[:,0].min()-1, X_train[:,0].max()+1\n",
        "y_min, y_max = X_train[:,1].min()-1, X_train[:,1].max()+1\n",
        "xx, yy = np.meshgrid(np.arange(x_min, x_max, 0.1),\n",
        "                     np.arange(y_min, y_max, 0.1))\n",
        "\n",
        "f, axarr = plt.subplots(1, 2, sharex=True, sharey=True, figsize=(8,3))\n",
        "for idx, clf, tt in zip([0,1],[tree,bag],['Decision tree','Bagging']):\n",
        "    Z = clf.predict(np.c_[xx.ravel(), yy.ravel()]).reshape(xx.shape)\n",
        "    axarr[idx].contourf(xx, yy, Z, alpha=0.3)\n",
        "    axarr[idx].scatter(X_train[y_train==0,0], X_train[y_train==0,1], c='blue', marker='^')\n",
        "    axarr[idx].scatter(X_train[y_train==1,0], X_train[y_train==1,1], c='green', marker='o')\n",
        "    axarr[idx].set_title(tt)\n",
        "\n",
        "axarr[0].set_ylabel('Alcohol')\n",
        "plt.text(10.2, -1.2, 'OD280/OD315 of diluted wines', ha='center')\n",
        "plt.tight_layout()\n",
        "plt.show()\n"
      ],
      "metadata": {
        "colab": {
          "base_uri": "https://localhost:8080/",
          "height": 221
        },
        "id": "C8Swh_NEYZMm",
        "outputId": "27bef2b0-19a8-4b7a-c3ad-f8a39b2a8f01"
      },
      "execution_count": 72,
      "outputs": [
        {
          "output_type": "display_data",
          "data": {
            "text/plain": [
              "<Figure size 800x300 with 2 Axes>"
            ],
            "image/png": "[encoded data removed]"
          },
          "metadata": {}
        }
      ]
    },
    {
      "cell_type": "code",
      "source": [
        "from sklearn.ensemble import AdaBoostClassifier\n",
        "from sklearn.tree import DecisionTreeClassifier\n",
        "from sklearn.metrics import accuracy_score\n",
        "\n",
        "# Decision tree stump\n",
        "tree = DecisionTreeClassifier(max_depth=1, criterion='entropy', random_state=1)\n",
        "\n",
        "# Correct AdaBoost syntax for sklearn >=1.2\n",
        "ada = AdaBoostClassifier(estimator=tree, n_estimators=500, learning_rate=0.1, random_state=1)\n",
        "\n",
        "# Train and evaluate decision tree stump\n",
        "tree.fit(X_train, y_train)\n",
        "y_train_pred_tree = tree.predict(X_train)\n",
        "y_test_pred_tree = tree.predict(X_test)\n",
        "print(f'Decision tree stump train/test: {accuracy_score(y_train, y_train_pred_tree):.3f}/{accuracy_score(y_test, y_test_pred_tree):.3f}')\n",
        "\n",
        "# Train and evaluate AdaBoost\n",
        "ada.fit(X_train, y_train)\n",
        "y_train_pred_ada = ada.predict(X_train)\n",
        "y_test_pred_ada = ada.predict(X_test)\n",
        "print(f'AdaBoost train/test: {accuracy_score(y_train, y_train_pred_ada):.3f}/{accuracy_score(y_test, y_test_pred_ada):.3f}')\n"
      ],
      "metadata": {
        "colab": {
          "base_uri": "https://localhost:8080/"
        },
        "id": "j-rjrARYaR9x",
        "outputId": "517d4c6a-3ea2-4c2b-e621-d6d0f4ce8907"
      },
      "execution_count": 73,
      "outputs": [
        {
          "output_type": "stream",
          "name": "stdout",
          "text": [
            "Decision tree stump train/test: 0.916/0.875\n",
            "AdaBoost train/test: 0.968/0.917\n"
          ]
        }
      ]
    },
    {
      "cell_type": "code",
      "source": [
        "from sklearn.ensemble import AdaBoostClassifier\n",
        "from sklearn.tree import DecisionTreeClassifier\n",
        "from sklearn.metrics import accuracy_score\n",
        "import matplotlib.pyplot as plt\n",
        "\n",
        "# Create AdaBoost classifier with decision stump\n",
        "ada = AdaBoostClassifier(\n",
        "    estimator=DecisionTreeClassifier(max_depth=1, random_state=1),\n",
        "    n_estimators=500,\n",
        "    learning_rate=0.1,\n",
        "    random_state=1\n",
        ")\n",
        "\n",
        "# Fit AdaBoost\n",
        "ada.fit(X_train, y_train)\n",
        "\n",
        "# Calculate staged error for train and test\n",
        "ada_train_err = [1 - accuracy_score(y_train, y_pred) for y_pred in ada.staged_predict(X_train)]\n",
        "ada_test_err = [1 - accuracy_score(y_test, y_pred) for y_pred in ada.staged_predict(X_test)]\n",
        "\n",
        "# Plot error convergence\n",
        "plt.plot(range(1, len(ada_train_err)+1), ada_train_err, label='Train error', color='blue')\n",
        "plt.plot(range(1, len(ada_test_err)+1), ada_test_err, label='Test error', color='red', linestyle='--')\n",
        "plt.xlabel('Boosting iterations')\n",
        "plt.ylabel('Error')\n",
        "plt.legend()\n",
        "plt.title('AdaBoost error convergence')\n",
        "plt.tight_layout()\n",
        "plt.show()\n"
      ],
      "metadata": {
        "colab": {
          "base_uri": "https://localhost:8080/",
          "height": 466
        },
        "id": "nthBbPHLapjd",
        "outputId": "6123b6e3-6ef9-4f11-bf24-9499774ae52b"
      },
      "execution_count": 74,
      "outputs": [
        {
          "output_type": "display_data",
          "data": {
            "text/plain": [
              "<Figure size 640x480 with 1 Axes>"
            ],
            "image/png": "[encoded data removed]"
          },
          "metadata": {}
        }
      ]
    },
    {
      "cell_type": "code",
      "source": [
        "from sklearn.datasets import load_iris\n",
        "from sklearn.model_selection import train_test_split, cross_val_score\n",
        "from sklearn.linear_model import LogisticRegression\n",
        "from sklearn.neighbors import KNeighborsClassifier\n",
        "from sklearn.tree import DecisionTreeClassifier\n",
        "from sklearn.ensemble import RandomForestClassifier, VotingClassifier, BaggingClassifier, AdaBoostClassifier\n",
        "import pandas as pd\n",
        "\n",
        "# Load Iris dataset\n",
        "X, y = load_iris(return_X_y=True)\n",
        "X_train, X_test, y_train, y_test = train_test_split(X, y, test_size=0.3, random_state=1, stratify=y)\n",
        "\n",
        "# Create individual classifiers\n",
        "clf_lr = LogisticRegression(random_state=1, max_iter=500)\n",
        "clf_knn = KNeighborsClassifier()\n",
        "clf_dt = DecisionTreeClassifier(random_state=1)\n",
        "clf_rf = RandomForestClassifier(random_state=1)\n",
        "\n",
        "# Create ensemble classifiers\n",
        "voting_clf = VotingClassifier(estimators=[('lr', clf_lr), ('knn', clf_knn), ('dt', clf_dt), ('rf', clf_rf)], voting='hard')\n",
        "\n",
        "# Updated for scikit-learn 1.2+: 'estimator' instead of 'base_estimator'\n",
        "bagging_clf = BaggingClassifier(estimator=clf_dt, n_estimators=100, random_state=1)\n",
        "adaboost_clf = AdaBoostClassifier(estimator=clf_dt, n_estimators=100, random_state=1)\n",
        "\n",
        "# List of classifiers\n",
        "classifiers = [clf_lr, clf_knn, clf_dt, clf_rf, voting_clf, bagging_clf, adaboost_clf]\n",
        "classifier_names = ['Logistic Regression', 'KNN', 'Decision Tree', 'Random Forest', 'Voting Classifier', 'Bagging', 'AdaBoost']\n",
        "\n",
        "# Evaluate all classifiers using 10-fold cross-validation\n",
        "results = []\n",
        "for clf, name in zip(classifiers, classifier_names):\n",
        "    scores = cross_val_score(clf, X_train, y_train, cv=10, scoring='accuracy')\n",
        "    results.append({\n",
        "        'Classifier': name,\n",
        "        'Mean Accuracy': scores.mean(),\n",
        "        'Std Accuracy': scores.std()\n",
        "    })\n",
        "\n",
        "# Display results sorted by accuracy\n",
        "results_df = pd.DataFrame(results).sort_values('Mean Accuracy', ascending=False)\n",
        "print(results_df)\n"
      ],
      "metadata": {
        "colab": {
          "base_uri": "https://localhost:8080/"
        },
        "id": "vpBSdibjbAPm",
        "outputId": "faaf8b92-1a75-4768-c811-926cd2a48b95"
      },
      "execution_count": 75,
      "outputs": [
        {
          "output_type": "stream",
          "name": "stdout",
          "text": [
            "            Classifier  Mean Accuracy  Std Accuracy\n",
            "1                  KNN       0.951818      0.048285\n",
            "0  Logistic Regression       0.941818      0.047621\n",
            "4    Voting Classifier       0.940909      0.065839\n",
            "5              Bagging       0.940909      0.065839\n",
            "3        Random Forest       0.931818      0.063278\n",
            "2        Decision Tree       0.922727      0.059231\n",
            "6             AdaBoost       0.922727      0.071841\n"
          ]
        }
      ]
    },
    {
      "cell_type": "code",
      "source": [
        "from sklearn.model_selection import GridSearchCV\n",
        "from sklearn.ensemble import AdaBoostClassifier, BaggingClassifier\n",
        "from sklearn.tree import DecisionTreeClassifier\n",
        "\n",
        "# AdaBoost GridSearch\n",
        "param_grid_ada = {\n",
        "    'n_estimators': [50, 100, 200],\n",
        "    'learning_rate': [0.1, 0.5, 1.0],\n",
        "    'estimator__max_depth': [1, 2, 3]  # updated key\n",
        "}\n",
        "\n",
        "ada_clf = AdaBoostClassifier(estimator=DecisionTreeClassifier(random_state=1), random_state=1)\n",
        "gs_ada = GridSearchCV(ada_clf, param_grid_ada, cv=5, scoring='accuracy', n_jobs=-1)\n",
        "gs_ada.fit(X_train, y_train)\n",
        "\n",
        "print(\"AdaBoost Best params:\", gs_ada.best_params_)\n",
        "print(\"AdaBoost Best score:\", gs_ada.best_score_)\n",
        "\n",
        "# Bagging GridSearch\n",
        "param_grid_bag = {\n",
        "    'n_estimators': [50, 100, 200],\n",
        "    'max_samples': [0.5, 0.8, 1.0],\n",
        "    'max_features': [0.5, 0.8, 1.0]\n",
        "}\n",
        "\n",
        "bag_clf = BaggingClassifier(estimator=DecisionTreeClassifier(random_state=1), random_state=1)\n",
        "gs_bag = GridSearchCV(bag_clf, param_grid_bag, cv=5, scoring='accuracy', n_jobs=-1)\n",
        "gs_bag.fit(X_train, y_train)\n",
        "\n",
        "print(\"Bagging Best params:\", gs_bag.best_params_)\n",
        "print(\"Bagging Best score:\", gs_bag.best_score_)\n"
      ],
      "metadata": {
        "colab": {
          "base_uri": "https://localhost:8080/"
        },
        "id": "nNx2QCcYbebj",
        "outputId": "38eb441f-1b18-43b5-c468-f664392dbbef"
      },
      "execution_count": 76,
      "outputs": [
        {
          "output_type": "stream",
          "name": "stdout",
          "text": [
            "AdaBoost Best params: {'estimator__max_depth': 1, 'learning_rate': 0.1, 'n_estimators': 50}\n",
            "AdaBoost Best score: 0.9714285714285713\n",
            "Bagging Best params: {'max_features': 0.8, 'max_samples': 0.5, 'n_estimators': 200}\n",
            "Bagging Best score: 0.9523809523809523\n"
          ]
        }
      ]
    }
  ]
}